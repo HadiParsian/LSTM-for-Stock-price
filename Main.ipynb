{
 "cells": [
  {
   "cell_type": "markdown",
   "metadata": {
    "id": "xpAuMVCwfWs8"
   },
   "source": [
    "# Long Short Term Memory (LSTM) \n",
    "# For Trading Socks"
   ]
  },
  {
   "cell_type": "markdown",
   "metadata": {},
   "source": [
    "* Scraping Stock prices from Yahoo-Finance  \n",
    "* Model: LSTM for predicting the stock price 'trend'. \n",
    "* Strategy: Enter to the long position if LSTM is predicting up-trend and and RSI is less than 40 or enter to the short position if LSTM is predicting down-trend and RSI is more than 60          \n",
    "* Trading based on the trend based on the model is promissing!"
   ]
  },
  {
   "cell_type": "markdown",
   "metadata": {
    "id": "sI_69WrKZruF"
   },
   "source": [
    "# 1. Importing Data"
   ]
  },
  {
   "cell_type": "markdown",
   "metadata": {
    "id": "ir9zwETrfbrp"
   },
   "source": [
    "### Importing the libraries"
   ]
  },
  {
   "cell_type": "code",
   "execution_count": 1,
   "metadata": {},
   "outputs": [],
   "source": [
    "Symbol ='OPTT'#'AEF'#'ADT'#'TSLA'#'ACER'#'ACB'#'ABEV'#'GOOGL'#'ACIU'##'SELB'##  'ABEV' #'AAPL' #'GOOGL' #'AAU'"
   ]
  },
  {
   "cell_type": "code",
   "execution_count": 5,
   "metadata": {
    "executionInfo": {
     "elapsed": 251,
     "status": "ok",
     "timestamp": 1605653501797,
     "user": {
      "displayName": "Hadi Parsian",
      "photoUrl": "",
      "userId": "11386035386801402503"
     },
     "user_tz": 300
    },
    "id": "ZT1f24vHffuf"
   },
   "outputs": [],
   "source": [
    "import numpy as np\n",
    "import matplotlib.pyplot as plt\n",
    "import pandas as pd"
   ]
  },
  {
   "cell_type": "markdown",
   "metadata": {
    "id": "nQ47JAxrgmaL"
   },
   "source": [
    "### Importing the stock price data"
   ]
  },
  {
   "cell_type": "code",
   "execution_count": 9,
   "metadata": {},
   "outputs": [
    {
     "data": {
      "text/html": [
       "<div>\n",
       "<style scoped>\n",
       "    .dataframe tbody tr th:only-of-type {\n",
       "        vertical-align: middle;\n",
       "    }\n",
       "\n",
       "    .dataframe tbody tr th {\n",
       "        vertical-align: top;\n",
       "    }\n",
       "\n",
       "    .dataframe thead th {\n",
       "        text-align: right;\n",
       "    }\n",
       "</style>\n",
       "<table border=\"1\" class=\"dataframe\">\n",
       "  <thead>\n",
       "    <tr style=\"text-align: right;\">\n",
       "      <th></th>\n",
       "      <th>Open</th>\n",
       "      <th>High</th>\n",
       "      <th>Low</th>\n",
       "      <th>Close</th>\n",
       "      <th>Volume</th>\n",
       "      <th>Dividends</th>\n",
       "      <th>Stock Splits</th>\n",
       "    </tr>\n",
       "    <tr>\n",
       "      <th>Date</th>\n",
       "      <th></th>\n",
       "      <th></th>\n",
       "      <th></th>\n",
       "      <th></th>\n",
       "      <th></th>\n",
       "      <th></th>\n",
       "      <th></th>\n",
       "    </tr>\n",
       "  </thead>\n",
       "  <tbody>\n",
       "    <tr>\n",
       "      <th>2015-01-02</th>\n",
       "      <td>124.00</td>\n",
       "      <td>136.00</td>\n",
       "      <td>122.00</td>\n",
       "      <td>130.00</td>\n",
       "      <td>2109</td>\n",
       "      <td>0</td>\n",
       "      <td>0.0</td>\n",
       "    </tr>\n",
       "    <tr>\n",
       "      <th>2015-01-05</th>\n",
       "      <td>128.00</td>\n",
       "      <td>138.00</td>\n",
       "      <td>122.00</td>\n",
       "      <td>130.00</td>\n",
       "      <td>1854</td>\n",
       "      <td>0</td>\n",
       "      <td>0.0</td>\n",
       "    </tr>\n",
       "    <tr>\n",
       "      <th>2015-01-06</th>\n",
       "      <td>138.00</td>\n",
       "      <td>138.00</td>\n",
       "      <td>120.00</td>\n",
       "      <td>122.00</td>\n",
       "      <td>1692</td>\n",
       "      <td>0</td>\n",
       "      <td>0.0</td>\n",
       "    </tr>\n",
       "    <tr>\n",
       "      <th>2015-01-07</th>\n",
       "      <td>124.00</td>\n",
       "      <td>128.00</td>\n",
       "      <td>116.00</td>\n",
       "      <td>120.00</td>\n",
       "      <td>873</td>\n",
       "      <td>0</td>\n",
       "      <td>0.0</td>\n",
       "    </tr>\n",
       "    <tr>\n",
       "      <th>2015-01-08</th>\n",
       "      <td>120.00</td>\n",
       "      <td>120.00</td>\n",
       "      <td>114.00</td>\n",
       "      <td>118.00</td>\n",
       "      <td>1206</td>\n",
       "      <td>0</td>\n",
       "      <td>0.0</td>\n",
       "    </tr>\n",
       "    <tr>\n",
       "      <th>...</th>\n",
       "      <td>...</td>\n",
       "      <td>...</td>\n",
       "      <td>...</td>\n",
       "      <td>...</td>\n",
       "      <td>...</td>\n",
       "      <td>...</td>\n",
       "      <td>...</td>\n",
       "    </tr>\n",
       "    <tr>\n",
       "      <th>2021-03-29</th>\n",
       "      <td>2.91</td>\n",
       "      <td>2.96</td>\n",
       "      <td>2.66</td>\n",
       "      <td>2.72</td>\n",
       "      <td>2719700</td>\n",
       "      <td>0</td>\n",
       "      <td>0.0</td>\n",
       "    </tr>\n",
       "    <tr>\n",
       "      <th>2021-03-30</th>\n",
       "      <td>2.70</td>\n",
       "      <td>3.05</td>\n",
       "      <td>2.67</td>\n",
       "      <td>3.00</td>\n",
       "      <td>3684500</td>\n",
       "      <td>0</td>\n",
       "      <td>0.0</td>\n",
       "    </tr>\n",
       "    <tr>\n",
       "      <th>2021-03-31</th>\n",
       "      <td>3.26</td>\n",
       "      <td>3.44</td>\n",
       "      <td>3.11</td>\n",
       "      <td>3.31</td>\n",
       "      <td>4869100</td>\n",
       "      <td>0</td>\n",
       "      <td>0.0</td>\n",
       "    </tr>\n",
       "    <tr>\n",
       "      <th>2021-04-01</th>\n",
       "      <td>3.38</td>\n",
       "      <td>3.42</td>\n",
       "      <td>3.06</td>\n",
       "      <td>3.10</td>\n",
       "      <td>3588100</td>\n",
       "      <td>0</td>\n",
       "      <td>0.0</td>\n",
       "    </tr>\n",
       "    <tr>\n",
       "      <th>2021-04-05</th>\n",
       "      <td>3.13</td>\n",
       "      <td>3.19</td>\n",
       "      <td>3.02</td>\n",
       "      <td>3.15</td>\n",
       "      <td>1717700</td>\n",
       "      <td>0</td>\n",
       "      <td>0.0</td>\n",
       "    </tr>\n",
       "  </tbody>\n",
       "</table>\n",
       "<p>1574 rows × 7 columns</p>\n",
       "</div>"
      ],
      "text/plain": [
       "              Open    High     Low   Close   Volume  Dividends  Stock Splits\n",
       "Date                                                                        \n",
       "2015-01-02  124.00  136.00  122.00  130.00     2109          0           0.0\n",
       "2015-01-05  128.00  138.00  122.00  130.00     1854          0           0.0\n",
       "2015-01-06  138.00  138.00  120.00  122.00     1692          0           0.0\n",
       "2015-01-07  124.00  128.00  116.00  120.00      873          0           0.0\n",
       "2015-01-08  120.00  120.00  114.00  118.00     1206          0           0.0\n",
       "...            ...     ...     ...     ...      ...        ...           ...\n",
       "2021-03-29    2.91    2.96    2.66    2.72  2719700          0           0.0\n",
       "2021-03-30    2.70    3.05    2.67    3.00  3684500          0           0.0\n",
       "2021-03-31    3.26    3.44    3.11    3.31  4869100          0           0.0\n",
       "2021-04-01    3.38    3.42    3.06    3.10  3588100          0           0.0\n",
       "2021-04-05    3.13    3.19    3.02    3.15  1717700          0           0.0\n",
       "\n",
       "[1574 rows x 7 columns]"
      ]
     },
     "execution_count": 9,
     "metadata": {},
     "output_type": "execute_result"
    }
   ],
   "source": [
    "import yfinance as yf\n",
    "\n",
    "#define the ticker symbol\n",
    "\n",
    "\n",
    "#get data on this ticker\n",
    "tickerData = yf.Ticker(Symbol)\n",
    "\n",
    "#get the historical prices for this ticker\n",
    "data = tickerData.history( start='2015-1-1', end='2021-4-6')\n",
    "\n",
    "#see your data\n",
    "data"
   ]
  },
  {
   "cell_type": "markdown",
   "metadata": {
    "id": "MlnQhlRsZruH"
   },
   "source": [
    "# 2. Overview of data"
   ]
  },
  {
   "cell_type": "code",
   "execution_count": 10,
   "metadata": {},
   "outputs": [
    {
     "data": {
      "image/png": "[encoded data removed]",
      "text/plain": [
       "<Figure size 432x288 with 1 Axes>"
      ]
     },
     "metadata": {
      "needs_background": "light"
     },
     "output_type": "display_data"
    }
   ],
   "source": [
    "data['Close'].plot()\n",
    "plt.title('Intraday Times Series for the '+f'{Symbol}'+' stock')\n",
    "plt.show()"
   ]
  },
  {
   "cell_type": "code",
   "execution_count": 11,
   "metadata": {
    "colab": {
     "base_uri": "https://localhost:8080/"
    },
    "executionInfo": {
     "elapsed": 1880,
     "status": "ok",
     "timestamp": 1605653503462,
     "user": {
      "displayName": "Hadi Parsian",
      "photoUrl": "",
      "userId": "11386035386801402503"
     },
     "user_tz": 300
    },
    "id": "EtyGPbLL0qb_",
    "outputId": "b2e4447d-ca41-4639-f454-ebee49eb1cc1"
   },
   "outputs": [
    {
     "data": {
      "text/plain": [
       "1574"
      ]
     },
     "execution_count": 11,
     "metadata": {},
     "output_type": "execute_result"
    }
   ],
   "source": [
    "len(data.iloc[:,0:1].values)"
   ]
  },
  {
   "cell_type": "code",
   "execution_count": 12,
   "metadata": {
    "colab": {
     "base_uri": "https://localhost:8080/"
    },
    "executionInfo": {
     "elapsed": 1872,
     "status": "ok",
     "timestamp": 1605653503463,
     "user": {
      "displayName": "Hadi Parsian",
      "photoUrl": "",
      "userId": "11386035386801402503"
     },
     "user_tz": 300
    },
    "id": "u7wUL1tm0qcN",
    "outputId": "c68a880d-fb94-4cc1-d280-39da13fa3eb4"
   },
   "outputs": [
    {
     "data": {
      "text/plain": [
       "1474"
      ]
     },
     "execution_count": 12,
     "metadata": {},
     "output_type": "execute_result"
    }
   ],
   "source": [
    "Keep_Days=100\n",
    "training_set=data.iloc[:-Keep_Days,0:1].values\n",
    "len(training_set)"
   ]
  },
  {
   "cell_type": "code",
   "execution_count": 13,
   "metadata": {},
   "outputs": [
    {
     "data": {
      "text/plain": [
       "Open                  1.80\n",
       "High                  1.84\n",
       "Low                   1.65\n",
       "Close                 1.68\n",
       "Volume          4068900.00\n",
       "Dividends             0.00\n",
       "Stock Splits          0.00\n",
       "Name: 2020-11-09 00:00:00, dtype: float64"
      ]
     },
     "execution_count": 13,
     "metadata": {},
     "output_type": "execute_result"
    }
   ],
   "source": [
    "data.iloc[-100,:]"
   ]
  },
  {
   "cell_type": "markdown",
   "metadata": {
    "id": "ElbMH0jaZruJ"
   },
   "source": [
    "# 3. Feature engineering"
   ]
  },
  {
   "cell_type": "markdown",
   "metadata": {
    "id": "HT8_2UJegtG5"
   },
   "source": [
    "### Feature Scaling"
   ]
  },
  {
   "cell_type": "code",
   "execution_count": 14,
   "metadata": {},
   "outputs": [],
   "source": [
    "training_set;"
   ]
  },
  {
   "cell_type": "code",
   "execution_count": 17,
   "metadata": {
    "executionInfo": {
     "elapsed": 2831,
     "status": "ok",
     "timestamp": 1605653504426,
     "user": {
      "displayName": "Hadi Parsian",
      "photoUrl": "",
      "userId": "11386035386801402503"
     },
     "user_tz": 300
    },
    "id": "OTrF2kR7gx9x"
   },
   "outputs": [],
   "source": [
    "from sklearn.preprocessing import MinMaxScaler\n",
    "sc = MinMaxScaler(feature_range = (0, 1))\n",
    "training_set_scaled = sc.fit_transform(training_set)"
   ]
  },
  {
   "cell_type": "markdown",
   "metadata": {
    "id": "JyYgYocqhNUg"
   },
   "source": [
    "### Creating a data structure with 60 timesteps and 1 output"
   ]
  },
  {
   "cell_type": "code",
   "execution_count": 18,
   "metadata": {
    "executionInfo": {
     "elapsed": 2831,
     "status": "ok",
     "timestamp": 1605653504428,
     "user": {
      "displayName": "Hadi Parsian",
      "photoUrl": "",
      "userId": "11386035386801402503"
     },
     "user_tz": 300
    },
    "id": "KEORqm2J0qcY"
   },
   "outputs": [],
   "source": [
    "n=60"
   ]
  },
  {
   "cell_type": "code",
   "execution_count": 19,
   "metadata": {
    "executionInfo": {
     "elapsed": 2829,
     "status": "ok",
     "timestamp": 1605653504429,
     "user": {
      "displayName": "Hadi Parsian",
      "photoUrl": "",
      "userId": "11386035386801402503"
     },
     "user_tz": 300
    },
    "id": "iofU21B0i6ST"
   },
   "outputs": [],
   "source": [
    "X_train = []\n",
    "y_train = []\n",
    "for i in range(n, len(training_set)):\n",
    "    X_train.append(training_set_scaled[i-n:i, 0])\n",
    "    y_train.append(training_set_scaled[i, 0])\n",
    "X_train, y_train = np.array(X_train), np.array(y_train)"
   ]
  },
  {
   "cell_type": "markdown",
   "metadata": {
    "id": "D8yaN7Zvi95l"
   },
   "source": [
    "### Reshaping"
   ]
  },
  {
   "cell_type": "code",
   "execution_count": 20,
   "metadata": {},
   "outputs": [
    {
     "data": {
      "text/plain": [
       "(1414, 60)"
      ]
     },
     "execution_count": 20,
     "metadata": {},
     "output_type": "execute_result"
    }
   ],
   "source": [
    "X_train.shape"
   ]
  },
  {
   "cell_type": "code",
   "execution_count": 21,
   "metadata": {
    "executionInfo": {
     "elapsed": 2828,
     "status": "ok",
     "timestamp": 1605653504430,
     "user": {
      "displayName": "Hadi Parsian",
      "photoUrl": "",
      "userId": "11386035386801402503"
     },
     "user_tz": 300
    },
    "id": "FOXqJHmNjBkz"
   },
   "outputs": [],
   "source": [
    "X_train = np.reshape(X_train, (X_train.shape[0], X_train.shape[1], 1))"
   ]
  },
  {
   "cell_type": "code",
   "execution_count": 22,
   "metadata": {},
   "outputs": [
    {
     "data": {
      "text/plain": [
       "(1414, 60, 1)"
      ]
     },
     "execution_count": 22,
     "metadata": {},
     "output_type": "execute_result"
    }
   ],
   "source": [
    "X_train.shape"
   ]
  },
  {
   "cell_type": "markdown",
   "metadata": {
    "id": "e7nZc1PIZruJ"
   },
   "source": [
    "# 4. Model building"
   ]
  },
  {
   "cell_type": "markdown",
   "metadata": {
    "id": "ZRRSOJeVjEWV"
   },
   "source": [
    "## Building and Training the LSTM"
   ]
  },
  {
   "cell_type": "markdown",
   "metadata": {
    "id": "k4XV88JMjHXG"
   },
   "source": [
    "### Importing the Keras libraries and packages"
   ]
  },
  {
   "cell_type": "code",
   "execution_count": 26,
   "metadata": {
    "executionInfo": {
     "elapsed": 4519,
     "status": "ok",
     "timestamp": 1605653506123,
     "user": {
      "displayName": "Hadi Parsian",
      "photoUrl": "",
      "userId": "11386035386801402503"
     },
     "user_tz": 300
    },
    "id": "9JRnqsxEjKsD"
   },
   "outputs": [],
   "source": [
    "from keras.models import Sequential\n",
    "from keras.layers import Dense\n",
    "from keras.layers import LSTM\n",
    "from keras.layers import Dropout"
   ]
  },
  {
   "cell_type": "markdown",
   "metadata": {
    "id": "FEIE-1s9jNzC"
   },
   "source": [
    "### Initialising the LSTM"
   ]
  },
  {
   "cell_type": "code",
   "execution_count": 27,
   "metadata": {
    "executionInfo": {
     "elapsed": 4776,
     "status": "ok",
     "timestamp": 1605653506382,
     "user": {
      "displayName": "Hadi Parsian",
      "photoUrl": "",
      "userId": "11386035386801402503"
     },
     "user_tz": 300
    },
    "id": "1338dJ0UjRKH"
   },
   "outputs": [],
   "source": [
    "regressor = Sequential()"
   ]
  },
  {
   "cell_type": "markdown",
   "metadata": {
    "id": "62eg1OPGjT8z"
   },
   "source": [
    "### Adding the first LSTM layer and some Dropout regularisation"
   ]
  },
  {
   "cell_type": "code",
   "execution_count": 28,
   "metadata": {
    "executionInfo": {
     "elapsed": 5281,
     "status": "ok",
     "timestamp": 1605653506890,
     "user": {
      "displayName": "Hadi Parsian",
      "photoUrl": "",
      "userId": "11386035386801402503"
     },
     "user_tz": 300
    },
    "id": "2hIinyXUjbVU"
   },
   "outputs": [],
   "source": [
    "regressor.add(LSTM(units = 100, return_sequences = True, input_shape = (X_train.shape[1], 1)))\n",
    "regressor.add(Dropout(0.2))"
   ]
  },
  {
   "cell_type": "markdown",
   "metadata": {
    "id": "3XBIYLyOjlMx"
   },
   "source": [
    "### Adding a second LSTM layer and some Dropout regularisation"
   ]
  },
  {
   "cell_type": "code",
   "execution_count": 29,
   "metadata": {},
   "outputs": [],
   "source": [
    "regressor.add(LSTM(units = 50, return_sequences = True))\n",
    "regressor.add(Dropout(0.2))"
   ]
  },
  {
   "cell_type": "markdown",
   "metadata": {
    "id": "Ey3fHVnGj1cu"
   },
   "source": [
    "### Adding a third LSTM layer and some Dropout regularisation"
   ]
  },
  {
   "cell_type": "code",
   "execution_count": 30,
   "metadata": {
    "executionInfo": {
     "elapsed": 5822,
     "status": "ok",
     "timestamp": 1605653507435,
     "user": {
      "displayName": "Hadi Parsian",
      "photoUrl": "",
      "userId": "11386035386801402503"
     },
     "user_tz": 300
    },
    "id": "PuNi6PgFj7jO"
   },
   "outputs": [],
   "source": [
    "regressor.add(LSTM(units = 25, return_sequences = True))\n",
    "regressor.add(Dropout(0.2))"
   ]
  },
  {
   "cell_type": "markdown",
   "metadata": {
    "id": "SYTrtfTmj933"
   },
   "source": [
    "### Adding a fourth LSTM layer and some Dropout regularisation"
   ]
  },
  {
   "cell_type": "code",
   "execution_count": 31,
   "metadata": {
    "executionInfo": {
     "elapsed": 6150,
     "status": "ok",
     "timestamp": 1605653507765,
     "user": {
      "displayName": "Hadi Parsian",
      "photoUrl": "",
      "userId": "11386035386801402503"
     },
     "user_tz": 300
    },
    "id": "Jp4Ty8fRkBYV"
   },
   "outputs": [],
   "source": [
    "regressor.add(LSTM(units = 10))\n",
    "regressor.add(Dropout(0.2))"
   ]
  },
  {
   "cell_type": "markdown",
   "metadata": {
    "id": "9ABI6rOIkHhk"
   },
   "source": [
    "### Adding the output layer"
   ]
  },
  {
   "cell_type": "code",
   "execution_count": 32,
   "metadata": {
    "executionInfo": {
     "elapsed": 6148,
     "status": "ok",
     "timestamp": 1605653507766,
     "user": {
      "displayName": "Hadi Parsian",
      "photoUrl": "",
      "userId": "11386035386801402503"
     },
     "user_tz": 300
    },
    "id": "aM6R1z4WkME8"
   },
   "outputs": [],
   "source": [
    "regressor.add(Dense(units = 1))"
   ]
  },
  {
   "cell_type": "markdown",
   "metadata": {
    "id": "zLx4K7uUkPSh"
   },
   "source": [
    "# 5. Compiling the LSTM"
   ]
  },
  {
   "cell_type": "code",
   "execution_count": 33,
   "metadata": {
    "executionInfo": {
     "elapsed": 6147,
     "status": "ok",
     "timestamp": 1605653507767,
     "user": {
      "displayName": "Hadi Parsian",
      "photoUrl": "",
      "userId": "11386035386801402503"
     },
     "user_tz": 300
    },
    "id": "XTrhVN-tkbko"
   },
   "outputs": [],
   "source": [
    "regressor.compile(optimizer = 'adam', loss = 'mean_squared_error')"
   ]
  },
  {
   "cell_type": "markdown",
   "metadata": {
    "id": "-mPhwKGkkebi"
   },
   "source": [
    "### Fitting the LSTM to the Training set"
   ]
  },
  {
   "cell_type": "code",
   "execution_count": 34,
   "metadata": {
    "colab": {
     "base_uri": "https://localhost:8080/"
    },
    "executionInfo": {
     "elapsed": 1467728,
     "status": "ok",
     "timestamp": 1605654969350,
     "user": {
      "displayName": "Hadi Parsian",
      "photoUrl": "",
      "userId": "11386035386801402503"
     },
     "user_tz": 300
    },
    "id": "ciD43Ya0ZruK",
    "outputId": "a706fba4-8983-446a-ff5e-786a42497de5"
   },
   "outputs": [
    {
     "name": "stdout",
     "output_type": "stream",
     "text": [
      "Epoch 1/30\n",
      "23/23 [==============================] - 7s 83ms/step - loss: 0.0183\n",
      "Epoch 2/30\n",
      "23/23 [==============================] - 2s 83ms/step - loss: 0.0059\n",
      "Epoch 3/30\n",
      "23/23 [==============================] - 2s 87ms/step - loss: 0.0048\n",
      "Epoch 4/30\n",
      "23/23 [==============================] - 2s 85ms/step - loss: 0.0049\n",
      "Epoch 5/30\n",
      "23/23 [==============================] - 2s 84ms/step - loss: 0.0045\n",
      "Epoch 6/30\n",
      "23/23 [==============================] - 2s 96ms/step - loss: 0.0036\n",
      "Epoch 7/30\n",
      "23/23 [==============================] - 2s 92ms/step - loss: 0.0036:\n",
      "Epoch 8/30\n",
      "23/23 [==============================] - 2s 92ms/step - loss: 0.0028\n",
      "Epoch 9/30\n",
      "23/23 [==============================] - 2s 84ms/step - loss: 0.0038\n",
      "Epoch 10/30\n",
      "23/23 [==============================] - 2s 83ms/step - loss: 0.0042\n",
      "Epoch 11/30\n",
      "23/23 [==============================] - 2s 84ms/step - loss: 0.0032\n",
      "Epoch 12/30\n",
      "23/23 [==============================] - 2s 84ms/step - loss: 0.0033\n",
      "Epoch 13/30\n",
      "23/23 [==============================] - 2s 83ms/step - loss: 0.0023\n",
      "Epoch 14/30\n",
      "23/23 [==============================] - 2s 95ms/step - loss: 0.0027\n",
      "Epoch 15/30\n",
      "23/23 [==============================] - 2s 94ms/step - loss: 0.0062\n",
      "Epoch 16/30\n",
      "23/23 [==============================] - 2s 88ms/step - loss: 0.0025\n",
      "Epoch 17/30\n",
      "23/23 [==============================] - 2s 87ms/step - loss: 0.0031\n",
      "Epoch 18/30\n",
      "23/23 [==============================] - 2s 90ms/step - loss: 0.0023\n",
      "Epoch 19/30\n",
      "23/23 [==============================] - 2s 84ms/step - loss: 0.0027\n",
      "Epoch 20/30\n",
      "23/23 [==============================] - 2s 85ms/step - loss: 0.0021\n",
      "Epoch 21/30\n",
      "23/23 [==============================] - 2s 86ms/step - loss: 0.0028\n",
      "Epoch 22/30\n",
      "23/23 [==============================] - 2s 88ms/step - loss: 0.0026\n",
      "Epoch 23/30\n",
      "23/23 [==============================] - 2s 84ms/step - loss: 0.0029\n",
      "Epoch 24/30\n",
      "23/23 [==============================] - 2s 86ms/step - loss: 0.0016\n",
      "Epoch 25/30\n",
      "23/23 [==============================] - 2s 86ms/step - loss: 0.0022\n",
      "Epoch 26/30\n",
      "23/23 [==============================] - 2s 86ms/step - loss: 0.0020\n",
      "Epoch 27/30\n",
      "23/23 [==============================] - 2s 91ms/step - loss: 0.0022\n",
      "Epoch 28/30\n",
      "23/23 [==============================] - 2s 87ms/step - loss: 0.0024\n",
      "Epoch 29/30\n",
      "23/23 [==============================] - 2s 86ms/step - loss: 0.0020\n",
      "Epoch 30/30\n",
      "23/23 [==============================] - 2s 86ms/step - loss: 0.0018\n"
     ]
    },
    {
     "data": {
      "text/plain": [
       "<tensorflow.python.keras.callbacks.History at 0x13be3e647c0>"
      ]
     },
     "execution_count": 34,
     "metadata": {},
     "output_type": "execute_result"
    }
   ],
   "source": [
    "regressor.fit(X_train, y_train, epochs = 30, batch_size = 64)"
   ]
  },
  {
   "cell_type": "markdown",
   "metadata": {
    "id": "4hRau_lIkrE8"
   },
   "source": [
    "# 6. Making the predictions"
   ]
  },
  {
   "cell_type": "code",
   "execution_count": 35,
   "metadata": {
    "executionInfo": {
     "elapsed": 1467728,
     "status": "ok",
     "timestamp": 1605654969352,
     "user": {
      "displayName": "Hadi Parsian",
      "photoUrl": "",
      "userId": "11386035386801402503"
     },
     "user_tz": 300
    },
    "id": "FmBT2zqukxTz"
   },
   "outputs": [],
   "source": [
    "real_stock_price = data.iloc[-Keep_Days:, 0:1].values"
   ]
  },
  {
   "cell_type": "code",
   "execution_count": 36,
   "metadata": {
    "colab": {
     "base_uri": "https://localhost:8080/"
    },
    "executionInfo": {
     "elapsed": 1467720,
     "status": "ok",
     "timestamp": 1605654969353,
     "user": {
      "displayName": "Hadi Parsian",
      "photoUrl": "",
      "userId": "11386035386801402503"
     },
     "user_tz": 300
    },
    "id": "QuyKLqoY0qdI",
    "outputId": "02fbd114-0881-4191-cbb3-b97e7af0ac16"
   },
   "outputs": [
    {
     "data": {
      "text/plain": [
       "100"
      ]
     },
     "execution_count": 36,
     "metadata": {},
     "output_type": "execute_result"
    }
   ],
   "source": [
    "len(real_stock_price)"
   ]
  },
  {
   "cell_type": "markdown",
   "metadata": {
    "id": "GrvrLblxkz42"
   },
   "source": [
    "### Getting the predicted stock price"
   ]
  },
  {
   "cell_type": "code",
   "execution_count": 37,
   "metadata": {
    "executionInfo": {
     "elapsed": 1470583,
     "status": "ok",
     "timestamp": 1605654972218,
     "user": {
      "displayName": "Hadi Parsian",
      "photoUrl": "",
      "userId": "11386035386801402503"
     },
     "user_tz": 300
    },
    "id": "emikTvUpk3Ck"
   },
   "outputs": [],
   "source": [
    "#dataset_total = pd.concat((dataset_train['Open'], dataset_test['Open']), axis = 0)\n",
    "inputs = data.iloc[len(data)- len(real_stock_price) -n:,0:1].values\n",
    "inputs = inputs.reshape(-1,1)\n",
    "inputs = sc.transform(inputs)\n",
    "X_test = []\n",
    "for i in range(n, n+len(real_stock_price)):\n",
    "    X_test.append(inputs[i-n:i, 0])\n",
    "X_test = np.array(X_test)\n",
    "X_test = np.reshape(X_test, (X_test.shape[0], X_test.shape[1], 1))\n",
    "predicted_stock_price = regressor.predict(X_test)\n",
    "predicted_stock_price = sc.inverse_transform(predicted_stock_price)"
   ]
  },
  {
   "cell_type": "code",
   "execution_count": 38,
   "metadata": {},
   "outputs": [
    {
     "data": {
      "text/plain": [
       "100"
      ]
     },
     "execution_count": 38,
     "metadata": {},
     "output_type": "execute_result"
    }
   ],
   "source": [
    "len(predicted_stock_price)"
   ]
  },
  {
   "cell_type": "code",
   "execution_count": 39,
   "metadata": {},
   "outputs": [],
   "source": [
    "def f(l):\n",
    "    l=np.array(l)\n",
    "    l=l.reshape(-1,1)\n",
    "    l=sc.transform(l)\n",
    "    y= regressor.predict(np.array([l]))\n",
    "    y=sc.inverse_transform(y)\n",
    "    return y[0][0]"
   ]
  },
  {
   "cell_type": "code",
   "execution_count": 40,
   "metadata": {},
   "outputs": [
    {
     "data": {
      "text/plain": [
       "(100, 60, 1)"
      ]
     },
     "execution_count": 40,
     "metadata": {},
     "output_type": "execute_result"
    }
   ],
   "source": [
    "X_test.shape"
   ]
  },
  {
   "cell_type": "markdown",
   "metadata": {
    "id": "iFTNs3YHk6FQ"
   },
   "source": [
    "# 7. Visualising the results"
   ]
  },
  {
   "cell_type": "code",
   "execution_count": 41,
   "metadata": {
    "colab": {
     "base_uri": "https://localhost:8080/",
     "height": 295
    },
    "executionInfo": {
     "elapsed": 1471032,
     "status": "ok",
     "timestamp": 1605654972678,
     "user": {
      "displayName": "Hadi Parsian",
      "photoUrl": "",
      "userId": "11386035386801402503"
     },
     "user_tz": 300
    },
    "id": "8OUI8U49k9tH",
    "outputId": "263997fa-e85d-40cd-efa5-5a169bad4503"
   },
   "outputs": [
    {
     "data": {
      "image/png": "[encoded data removed]",
      "text/plain": [
       "<Figure size 432x288 with 1 Axes>"
      ]
     },
     "metadata": {
      "needs_background": "light"
     },
     "output_type": "display_data"
    }
   ],
   "source": [
    "plt.plot(real_stock_price, color = 'red', label = 'Real Stock Price')\n",
    "plt.plot(predicted_stock_price, color = 'blue', label = 'Predicted Stock Price')\n",
    "plt.title('Stock Price Prediction')\n",
    "plt.xlabel('Time')\n",
    "plt.ylabel(Symbol+' Stock Price')\n",
    "plt.legend()\n",
    "plt.show()"
   ]
  },
  {
   "cell_type": "markdown",
   "metadata": {
    "id": "dten5AAhZruK"
   },
   "source": [
    "# 8. Backtesing"
   ]
  },
  {
   "cell_type": "code",
   "execution_count": 42,
   "metadata": {},
   "outputs": [
    {
     "name": "stdout",
     "output_type": "stream",
     "text": [
      "Collecting backtrader\n",
      "  Downloading backtrader-1.9.76.123-py2.py3-none-any.whl (410 kB)\n",
      "Installing collected packages: backtrader\n",
      "Successfully installed backtrader-1.9.76.123\n",
      "Note: you may need to restart the kernel to use updated packages.\n"
     ]
    }
   ],
   "source": [
    "pip install backtrader"
   ]
  },
  {
   "cell_type": "code",
   "execution_count": 43,
   "metadata": {},
   "outputs": [],
   "source": [
    "from __future__ import (absolute_import, division, print_function,\n",
    "                        unicode_literals)\n",
    "\n",
    "import datetime  # For datetime objects\n",
    "import os.path  # To manage paths\n",
    "import sys  # To find out the script name (in argv[0])\n",
    "\n",
    "# Import the backtrader platform\n",
    "import backtrader as bt"
   ]
  },
  {
   "cell_type": "code",
   "execution_count": 44,
   "metadata": {},
   "outputs": [],
   "source": [
    "# Create a Stratey\n",
    "class TestStrategy(bt.Strategy):\n",
    "    \n",
    "    def log(self, txt, dt=None):\n",
    "        ''' Logging function fot this strategy'''\n",
    "        dt = dt or self.datas[0].datetime.date(0)\n",
    "        print('%s, %s' % (dt.isoformat(), txt))\n",
    "\n",
    "    def __init__(self):\n",
    "        # Keep a reference to the \"close\" line in the data[0] dataseries\n",
    "        self.dataclose = self.datas[0].close\n",
    "        self.rsi = bt.indicators.RSI_SMA(self.data.close, period=60)\n",
    "\n",
    "        # To keep track of pending orders and buy price/commission\n",
    "        self.order = None\n",
    "        self.buyprice = None\n",
    "        self.buycomm = None\n",
    "\n",
    "    def notify_order(self, order):\n",
    "        if order.status in [order.Submitted, order.Accepted]:\n",
    "            # Buy/Sell order submitted/accepted to/by broker - Nothing to do\n",
    "            return\n",
    "\n",
    "        # Check if an order has been completed\n",
    "        # Attention: broker could reject order if not enough cash\n",
    "        if order.status in [order.Completed]:\n",
    "            if order.isbuy():\n",
    "                self.log(\n",
    "                    'BUY EXECUTED, Price: %.2f, Cost: %.2f, Comm %.2f' %\n",
    "                    (order.executed.price,\n",
    "                     order.executed.value,\n",
    "                     order.executed.comm))\n",
    "\n",
    "                self.buyprice = order.executed.price\n",
    "                self.buycomm = order.executed.comm\n",
    "            else:  # Sell\n",
    "                self.log('SELL EXECUTED, Price: %.2f, Cost: %.2f, Comm %.2f' %\n",
    "                         (order.executed.price,\n",
    "                          order.executed.value,\n",
    "                          order.executed.comm))\n",
    "\n",
    "            self.bar_executed = len(self)\n",
    "\n",
    "        elif order.status in [order.Canceled, order.Margin, order.Rejected]:\n",
    "            self.log('Order Canceled/Margin/Rejected')\n",
    "\n",
    "        self.order = None\n",
    "\n",
    "    def notify_trade(self, trade):\n",
    "        if not trade.isclosed:\n",
    "            return\n",
    "\n",
    "        self.log('OPERATION PROFIT, GROSS %.2f, NET %.2f' %\n",
    "                 (trade.pnl, trade.pnlcomm))\n",
    "\n",
    "    def next(self):\n",
    "        # Simply log the closing price of the series from the reference\n",
    "        #############################################self.log('Close, %.2f' % self.dataclose[0])\n",
    "\n",
    "        # Check if an order is pending ... if yes, we cannot send a 2nd one\n",
    "        if self.order:\n",
    "            return\n",
    "\n",
    "        # Check if we are in the market\n",
    "        if not self.position:\n",
    "            \n",
    "            X1=[self.dataclose[i] for i in range(-n,0)]\n",
    "            X2=[self.dataclose[i] for i in range(-n+1,1)]\n",
    "            # Not yet ... we MIGHT BUY if ...\n",
    "            if f(X1) < f(X2) and self.rsi<40:\n",
    "                    # current close less than previous close\n",
    "\n",
    "                    #if self.dataclose[-1] < self.dataclose[-2]:\n",
    "                        # previous close less than the previous close\n",
    "\n",
    "                        # BUY, BUY, BUY!!! (with default parameters)\n",
    "                self.log('LONG CREATE, %.2f' % self.dataclose[0])\n",
    "\n",
    "                    # Keep track of the created order to avoid a 2nd order\n",
    "                self.order = self.buy()\n",
    "            \n",
    "            elif  f(X2) < f(X1) and 60<self.rsi:\n",
    "                self.log('SHORT CREATE, %.2f' % self.dataclose[0])\n",
    "                self.order = self.sell()\n",
    "\n",
    "        else:\n",
    "            \n",
    "            X1=[self.dataclose[i] for i in range(-n,0)]\n",
    "            X2=[self.dataclose[i] for i in range(-n+1,1)]\n",
    "            # Already in the market ... we might sell\n",
    "            if (self.position.size)>0 and f(X2) < f(X1) :\n",
    "                # SELL, SELL, SELL!!! (with all possible default parameters)\n",
    "                self.log('CLOSE CREATE, %.2f' % self.dataclose[0])\n",
    "\n",
    "                # Keep track of the created order to avoid a 2nd order\n",
    "                self.order = self.close()\n",
    "            elif  (self.position.size)<0 and f(X1) < f(X2):\n",
    "                self.log('CLOSE CREATE, %.2f' % self.dataclose[0])\n",
    "                self.order = self.close()"
   ]
  },
  {
   "cell_type": "code",
   "execution_count": 45,
   "metadata": {},
   "outputs": [],
   "source": [
    "cerebro = bt.Cerebro()"
   ]
  },
  {
   "cell_type": "code",
   "execution_count": 46,
   "metadata": {},
   "outputs": [
    {
     "data": {
      "text/plain": [
       "0"
      ]
     },
     "execution_count": 46,
     "metadata": {},
     "output_type": "execute_result"
    }
   ],
   "source": [
    "cerebro.addstrategy(TestStrategy)"
   ]
  },
  {
   "cell_type": "code",
   "execution_count": 47,
   "metadata": {},
   "outputs": [],
   "source": [
    "data_backtest = bt.feeds.YahooFinanceData(dataname = Symbol, fromdate = datetime.datetime(2020,10,2), todate = datetime.datetime(2021, 2, 26),reverse=False)"
   ]
  },
  {
   "cell_type": "code",
   "execution_count": 48,
   "metadata": {},
   "outputs": [
    {
     "data": {
      "text/plain": [
       "<backtrader.feeds.yahoo.YahooFinanceData at 0x13bf1b42b80>"
      ]
     },
     "execution_count": 48,
     "metadata": {},
     "output_type": "execute_result"
    }
   ],
   "source": [
    "cerebro.adddata(data_backtest)"
   ]
  },
  {
   "cell_type": "code",
   "execution_count": 49,
   "metadata": {},
   "outputs": [],
   "source": [
    "# Set our desired cash start\n",
    "cerebro.broker.setcash(200000.0)"
   ]
  },
  {
   "cell_type": "code",
   "execution_count": 50,
   "metadata": {},
   "outputs": [],
   "source": [
    "cerebro.addsizer(bt.sizers.PercentSizer, percents = 50)"
   ]
  },
  {
   "cell_type": "code",
   "execution_count": 51,
   "metadata": {},
   "outputs": [],
   "source": [
    "# Set the commission - 0.1% ... divide by 100 to remove the %\n",
    "cerebro.broker.setcommission(commission=0.001)"
   ]
  },
  {
   "cell_type": "code",
   "execution_count": 52,
   "metadata": {
    "scrolled": true
   },
   "outputs": [
    {
     "name": "stdout",
     "output_type": "stream",
     "text": [
      "Starting Portfolio Value: 200000.00\n",
      "2021-02-01, SHORT CREATE, 4.39\n",
      "2021-02-02, SELL EXECUTED, Price: 4.75, Cost: -108200.46, Comm 108.20\n",
      "2021-02-09, CLOSE CREATE, 5.51\n",
      "2021-02-10, BUY EXECUTED, Price: 5.80, Cost: -108200.46, Comm 132.12\n",
      "2021-02-10, OPERATION PROFIT, GROSS -23918.00, NET -24158.31\n",
      "Final Portfolio Value: 175841.69\n"
     ]
    }
   ],
   "source": [
    "# Print out the starting conditions\n",
    "print('Starting Portfolio Value: %.2f' % cerebro.broker.getvalue())\n",
    "\n",
    "# Run over everything\n",
    "cerebro.run()\n",
    "\n",
    "# Print out the final result\n",
    "print('Final Portfolio Value: %.2f' % cerebro.broker.getvalue())"
   ]
  },
  {
   "cell_type": "code",
   "execution_count": 53,
   "metadata": {},
   "outputs": [
    {
     "name": "stdout",
     "output_type": "stream",
     "text": [
      "Collecting matplotlib==3.2.2\n",
      "  Downloading matplotlib-3.2.2-cp38-cp38-win_amd64.whl (9.2 MB)\n",
      "Requirement already satisfied: numpy>=1.11 in c:\\users\\hadi\\.conda\\envs\\tensor\\lib\\site-packages (from matplotlib==3.2.2) (1.19.2)\n",
      "Requirement already satisfied: kiwisolver>=1.0.1 in c:\\users\\hadi\\.conda\\envs\\tensor\\lib\\site-packages (from matplotlib==3.2.2) (1.3.1)\n",
      "Requirement already satisfied: python-dateutil>=2.1 in c:\\users\\hadi\\.conda\\envs\\tensor\\lib\\site-packages (from matplotlib==3.2.2) (2.8.1)\n",
      "Requirement already satisfied: pyparsing!=2.0.4,!=2.1.2,!=2.1.6,>=2.0.1 in c:\\users\\hadi\\.conda\\envs\\tensor\\lib\\site-packages (from matplotlib==3.2.2) (2.4.7)\n",
      "Requirement already satisfied: cycler>=0.10 in c:\\users\\hadi\\.conda\\envs\\tensor\\lib\\site-packages (from matplotlib==3.2.2) (0.10.0)\n",
      "Requirement already satisfied: six in c:\\users\\hadi\\.conda\\envs\\tensor\\lib\\site-packages (from cycler>=0.10->matplotlib==3.2.2) (1.15.0)\n",
      "Installing collected packages: matplotlib\n",
      "  Attempting uninstall: matplotlib\n",
      "    Found existing installation: matplotlib 3.3.4\n",
      "    Uninstalling matplotlib-3.3.4:\n",
      "Note: you may need to restart the kernel to use updated packages.\n"
     ]
    },
    {
     "name": "stderr",
     "output_type": "stream",
     "text": [
      "ERROR: Could not install packages due to an OSError: [WinError 5] Access is denied: 'c:\\\\users\\\\hadi\\\\.conda\\\\envs\\\\tensor\\\\lib\\\\site-packages\\\\matplotlib\\\\backends\\\\_backend_agg.cp38-win_amd64.pyd'\n",
      "Consider using the `--user` option or check the permissions.\n",
      "\n"
     ]
    }
   ],
   "source": [
    " pip install matplotlib==3.2.2"
   ]
  },
  {
   "cell_type": "code",
   "execution_count": 56,
   "metadata": {
    "scrolled": true
   },
   "outputs": [
    {
     "ename": "ImportError",
     "evalue": "cannot import name 'warnings' from 'matplotlib.dates' (C:\\Users\\Hadi\\.conda\\envs\\Tensor\\lib\\site-packages\\matplotlib\\dates.py)",
     "output_type": "error",
     "traceback": [
      "\u001b[1;31m---------------------------------------------------------------------------\u001b[0m",
      "\u001b[1;31mImportError\u001b[0m                               Traceback (most recent call last)",
      "\u001b[1;32m<ipython-input-56-b0ebeba5517a>\u001b[0m in \u001b[0;36m<module>\u001b[1;34m\u001b[0m\n\u001b[1;32m----> 1\u001b[1;33m \u001b[0mcerebro\u001b[0m\u001b[1;33m.\u001b[0m\u001b[0mplot\u001b[0m\u001b[1;33m(\u001b[0m\u001b[1;33m)\u001b[0m\u001b[1;33m\u001b[0m\u001b[1;33m\u001b[0m\u001b[0m\n\u001b[0m",
      "\u001b[1;32m~\\.conda\\envs\\Tensor\\lib\\site-packages\\backtrader\\cerebro.py\u001b[0m in \u001b[0;36mplot\u001b[1;34m(self, plotter, numfigs, iplot, start, end, width, height, dpi, tight, use, **kwargs)\u001b[0m\n\u001b[0;32m    972\u001b[0m \u001b[1;33m\u001b[0m\u001b[0m\n\u001b[0;32m    973\u001b[0m         \u001b[1;32mif\u001b[0m \u001b[1;32mnot\u001b[0m \u001b[0mplotter\u001b[0m\u001b[1;33m:\u001b[0m\u001b[1;33m\u001b[0m\u001b[1;33m\u001b[0m\u001b[0m\n\u001b[1;32m--> 974\u001b[1;33m             \u001b[1;32mfrom\u001b[0m \u001b[1;33m.\u001b[0m \u001b[1;32mimport\u001b[0m \u001b[0mplot\u001b[0m\u001b[1;33m\u001b[0m\u001b[1;33m\u001b[0m\u001b[0m\n\u001b[0m\u001b[0;32m    975\u001b[0m             \u001b[1;32mif\u001b[0m \u001b[0mself\u001b[0m\u001b[1;33m.\u001b[0m\u001b[0mp\u001b[0m\u001b[1;33m.\u001b[0m\u001b[0moldsync\u001b[0m\u001b[1;33m:\u001b[0m\u001b[1;33m\u001b[0m\u001b[1;33m\u001b[0m\u001b[0m\n\u001b[0;32m    976\u001b[0m                 \u001b[0mplotter\u001b[0m \u001b[1;33m=\u001b[0m \u001b[0mplot\u001b[0m\u001b[1;33m.\u001b[0m\u001b[0mPlot_OldSync\u001b[0m\u001b[1;33m(\u001b[0m\u001b[1;33m**\u001b[0m\u001b[0mkwargs\u001b[0m\u001b[1;33m)\u001b[0m\u001b[1;33m\u001b[0m\u001b[1;33m\u001b[0m\u001b[0m\n",
      "\u001b[1;32m~\\.conda\\envs\\Tensor\\lib\\site-packages\\backtrader\\plot\\__init__.py\u001b[0m in \u001b[0;36m<module>\u001b[1;34m\u001b[0m\n\u001b[0;32m     40\u001b[0m \u001b[1;33m\u001b[0m\u001b[0m\n\u001b[0;32m     41\u001b[0m \u001b[1;33m\u001b[0m\u001b[0m\n\u001b[1;32m---> 42\u001b[1;33m \u001b[1;32mfrom\u001b[0m \u001b[1;33m.\u001b[0m\u001b[0mplot\u001b[0m \u001b[1;32mimport\u001b[0m \u001b[0mPlot\u001b[0m\u001b[1;33m,\u001b[0m \u001b[0mPlot_OldSync\u001b[0m\u001b[1;33m\u001b[0m\u001b[1;33m\u001b[0m\u001b[0m\n\u001b[0m\u001b[0;32m     43\u001b[0m \u001b[1;32mfrom\u001b[0m \u001b[1;33m.\u001b[0m\u001b[0mscheme\u001b[0m \u001b[1;32mimport\u001b[0m \u001b[0mPlotScheme\u001b[0m\u001b[1;33m\u001b[0m\u001b[1;33m\u001b[0m\u001b[0m\n",
      "\u001b[1;32m~\\.conda\\envs\\Tensor\\lib\\site-packages\\backtrader\\plot\\plot.py\u001b[0m in \u001b[0;36m<module>\u001b[1;34m\u001b[0m\n\u001b[0;32m     42\u001b[0m \u001b[1;32mfrom\u001b[0m \u001b[1;33m.\u001b[0m\u001b[0mfinance\u001b[0m \u001b[1;32mimport\u001b[0m \u001b[0mplot_candlestick\u001b[0m\u001b[1;33m,\u001b[0m \u001b[0mplot_ohlc\u001b[0m\u001b[1;33m,\u001b[0m \u001b[0mplot_volume\u001b[0m\u001b[1;33m,\u001b[0m \u001b[0mplot_lineonclose\u001b[0m\u001b[1;33m\u001b[0m\u001b[1;33m\u001b[0m\u001b[0m\n\u001b[0;32m     43\u001b[0m \u001b[1;32mfrom\u001b[0m \u001b[1;33m.\u001b[0m\u001b[0mformatters\u001b[0m \u001b[1;32mimport\u001b[0m \u001b[1;33m(\u001b[0m\u001b[0mMyVolFormatter\u001b[0m\u001b[1;33m,\u001b[0m \u001b[0mMyDateFormatter\u001b[0m\u001b[1;33m,\u001b[0m \u001b[0mgetlocator\u001b[0m\u001b[1;33m)\u001b[0m\u001b[1;33m\u001b[0m\u001b[1;33m\u001b[0m\u001b[0m\n\u001b[1;32m---> 44\u001b[1;33m \u001b[1;32mfrom\u001b[0m \u001b[1;33m.\u001b[0m \u001b[1;32mimport\u001b[0m \u001b[0mlocator\u001b[0m \u001b[1;32mas\u001b[0m \u001b[0mloc\u001b[0m\u001b[1;33m\u001b[0m\u001b[1;33m\u001b[0m\u001b[0m\n\u001b[0m\u001b[0;32m     45\u001b[0m \u001b[1;32mfrom\u001b[0m \u001b[1;33m.\u001b[0m\u001b[0mmulticursor\u001b[0m \u001b[1;32mimport\u001b[0m \u001b[0mMultiCursor\u001b[0m\u001b[1;33m\u001b[0m\u001b[1;33m\u001b[0m\u001b[0m\n\u001b[0;32m     46\u001b[0m \u001b[1;32mfrom\u001b[0m \u001b[1;33m.\u001b[0m\u001b[0mscheme\u001b[0m \u001b[1;32mimport\u001b[0m \u001b[0mPlotScheme\u001b[0m\u001b[1;33m\u001b[0m\u001b[1;33m\u001b[0m\u001b[0m\n",
      "\u001b[1;32m~\\.conda\\envs\\Tensor\\lib\\site-packages\\backtrader\\plot\\locator.py\u001b[0m in \u001b[0;36m<module>\u001b[1;34m\u001b[0m\n\u001b[0;32m     33\u001b[0m \u001b[1;32mfrom\u001b[0m \u001b[0mmatplotlib\u001b[0m\u001b[1;33m.\u001b[0m\u001b[0mdates\u001b[0m \u001b[1;32mimport\u001b[0m \u001b[0mAutoDateFormatter\u001b[0m \u001b[1;32mas\u001b[0m \u001b[0mADFormatter\u001b[0m\u001b[1;33m\u001b[0m\u001b[1;33m\u001b[0m\u001b[0m\n\u001b[0;32m     34\u001b[0m \u001b[1;33m\u001b[0m\u001b[0m\n\u001b[1;32m---> 35\u001b[1;33m from matplotlib.dates import (HOURS_PER_DAY, MIN_PER_HOUR, SEC_PER_MIN,\n\u001b[0m\u001b[0;32m     36\u001b[0m                               \u001b[0mMONTHS_PER_YEAR\u001b[0m\u001b[1;33m,\u001b[0m \u001b[0mDAYS_PER_WEEK\u001b[0m\u001b[1;33m,\u001b[0m\u001b[1;33m\u001b[0m\u001b[1;33m\u001b[0m\u001b[0m\n\u001b[0;32m     37\u001b[0m                               \u001b[0mSEC_PER_HOUR\u001b[0m\u001b[1;33m,\u001b[0m \u001b[0mSEC_PER_DAY\u001b[0m\u001b[1;33m,\u001b[0m\u001b[1;33m\u001b[0m\u001b[1;33m\u001b[0m\u001b[0m\n",
      "\u001b[1;31mImportError\u001b[0m: cannot import name 'warnings' from 'matplotlib.dates' (C:\\Users\\Hadi\\.conda\\envs\\Tensor\\lib\\site-packages\\matplotlib\\dates.py)"
     ]
    }
   ],
   "source": [
    "cerebro.plot()"
   ]
  },
  {
   "cell_type": "markdown",
   "metadata": {},
   "source": [
    "# 9. Summery "
   ]
  },
  {
   "cell_type": "markdown",
   "metadata": {},
   "source": [
    "* Scraping Stock prices from Yahoo-Finance  \n",
    "* Model: LSTM for predicting the stock price 'trend'. \n",
    "* Strategy: Enter to the long position if LSTM is predicting up-trend and and RSI is less than 40 or enter to the short position if LSTM is predicting down-trend and RSI is more than 60          \n",
    "* Trading based on the trend based on the model is promissing!  \n",
    "(Trading with 50% of $200k demonstrated from 10/2/2020 to 2/26/2021 for an arbitrary stock)"
   ]
  },
  {
   "cell_type": "code",
   "execution_count": null,
   "metadata": {},
   "outputs": [],
   "source": []
  }
 ],
 "metadata": {
  "colab": {
   "collapsed_sections": [],
   "name": "Any Stock.ipynb",
   "provenance": []
  },
  "kernelspec": {
   "display_name": "Python 3",
   "language": "python",
   "name": "python3"
  },
  "language_info": {
   "codemirror_mode": {
    "name": "ipython",
    "version": 3
   },
   "file_extension": ".py",
   "mimetype": "text/x-python",
   "name": "python",
   "nbconvert_exporter": "python",
   "pygments_lexer": "ipython3",
   "version": "3.8.8"
  }
 },
 "nbformat": 4,
 "nbformat_minor": 1
}
